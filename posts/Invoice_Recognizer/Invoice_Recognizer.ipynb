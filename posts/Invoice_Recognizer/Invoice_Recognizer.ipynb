{
  "cells": [
    {
      "cell_type": "markdown",
      "source": [
        "## Hands Extracting Key-Value Pairs from Invoice Images using OCR and Gradio\n",
        "\n"
      ],
      "metadata": {
        "id": "5gxME6dIUP3a"
      }
    },
    {
      "cell_type": "markdown",
      "source": [
        "**Introduction:**\n",
        "\n",
        "Have you ever been in a situation where you have a scanned copy of an invoice, but you need to extract certain key information from it? It can be a tedious task to manually go through the invoice and extract the information you need. That's where the Invoice Recognizer comes in handy. In this blog post, we will be discussing the implementation of the Invoice Recognizer using Python.\n",
        "\n",
        "**Objective:**\n",
        "\n",
        "The objective of this project is to extract key-value pairs from an invoice image using the Tesseract OCR engine and regular expressions. We will be using Gradio to build a user interface for this project.\n",
        "\n",
        "**Implementation:**\n",
        "\n",
        "To implement the Invoice Recognizer, we will be using the following libraries:\n",
        "\n",
        "\n",
        "\n",
        "*   Gradio: For building the user interface.\n",
        "*   pytesseract: For OCR (Optical Character Recognition).\n",
        "*   PIL (Python Imaging Library): For working with images.\n",
        "*   pandas: For displaying the output in a tabular format.\n",
        "\n",
        "\n",
        "\n",
        "**Background Information:**\n",
        "\n",
        "**Optical Character Recognition (OCR):**\n",
        "Optical Character Recognition, or OCR, is the process of converting scanned images of text into machine-encoded text that can be searched, indexed, and manipulated by a computer. OCR software is used to read the text from images and convert it into machine-readable text. OCR technology is used in many applications, such as digitizing books and documents, recognizing license plates, and scanning receipts.\n",
        "\n",
        "**Tesseract OCR:**\n",
        "Tesseract OCR is a widely used open-source OCR engine developed by Google. It is known for its accuracy and ability to recognize text in a wide range of languages. Tesseract OCR is available in many programming languages, including Python.\n",
        "\n",
        "**Gradio:**\n",
        "Gradio is a Python library that allows developers to quickly and easily create customizable UI components for their machine learning models. With Gradio, developers can create web interfaces for their models without needing to write any front-end code. Gradio is built on top of Flask and React, making it easy to integrate into existing Python projects.\n",
        "Let's start by installing the required libraries:"
      ],
      "metadata": {
        "id": "Gquat3zlMkgh"
      }
    },
    {
      "cell_type": "code",
      "execution_count": 24,
      "metadata": {
        "id": "C_lgfmExfMN4"
      },
      "outputs": [],
      "source": [
        "!pip install gradio\n",
        "!apt-get update\n",
        "!apt-get install tesseract-ocr\n",
        "!apt-get install libtesseract-dev\n",
        "!pip install pytesseract"
      ]
    },
    {
      "cell_type": "code",
      "source": [
        "\n",
        "\n",
        "import pytesseract\n",
        "from PIL import Image\n",
        "\n",
        "pytesseract.pytesseract.tesseract_cmd = r'/usr/bin/tesseract'"
      ],
      "metadata": {
        "id": "Hnb8ypm9GReI"
      },
      "execution_count": 17,
      "outputs": []
    },
    {
      "cell_type": "markdown",
      "source": [
        "Once we have installed the required libraries, let's import them into our Python script:\n",
        "\n"
      ],
      "metadata": {
        "id": "glzw30rzNMye"
      }
    },
    {
      "cell_type": "code",
      "execution_count": 18,
      "metadata": {
        "id": "yZYr9zOpfJ3M"
      },
      "outputs": [],
      "source": [
        "import gradio as gr\n",
        "import re\n",
        "import pytesseract\n",
        "from PIL import Image\n",
        "import pandas as pd\n",
        "\n",
        "\n",
        "\n"
      ]
    },
    {
      "cell_type": "markdown",
      "source": [
        "We have imported the necessary libraries, and we have also specified the path to the Tesseract OCR engine. The next step is to define the regular expressions that we will use to match the keys in the invoice."
      ],
      "metadata": {
        "id": "5N_qhZXDNIYQ"
      }
    },
    {
      "cell_type": "code",
      "execution_count": 19,
      "metadata": {
        "id": "VO9UiYPeuj-J"
      },
      "outputs": [],
      "source": [
        "def extract_kvp(text,key_regexes):\n",
        "    # Define the regular expressions to match the keys\n",
        "    key_regexes = key_regexes\n",
        "    \"\"\"# [\n",
        "        re.compile(r\"^BILLTO\"),\n",
        "        re.compile(r\"^Invoice #\"),\n",
        "        re.compile(r\"^Task\"),\n",
        "        re.compile(r\"^Item\"),\n",
        "        re.compile(r\"^Rate\"),\n",
        "      #  re.compile(r\"^Price\"),\n",
        "        re.compile(r\"^Amount Due \\(USD\\)\"),\n",
        "    ]\"\"\"\n",
        "\n",
        "    # Split the text into lines\n",
        "    lines = text.split(\"\\n\")\n",
        "\n",
        "    # Iterate over the lines and extract the key-value pairs\n",
        "    kvp = {}\n",
        "    key = None\n",
        "    for line in lines:\n",
        "        for regex in key_regexes:\n",
        "            if regex.match(line):\n",
        "                key = regex.pattern.replace(\"^\", \"\").strip()\n",
        "                kvp[key] = \"\"\n",
        "                break\n",
        "        if key:\n",
        "            kvp[key] += line + \"\\n\"\n",
        "    if key == 'Amount Due \\\\(USD\\\\)':\n",
        "      key = 'Amount Due (USD):'\n",
        "      kvp[key] = line.split(\":\")[-1].strip().split(\"$\")[-1].strip()\n",
        "      \n",
        "    else:\n",
        "        kvp[key] = line.strip().replace(\",\",\"\").replace(key + \":\", \"\")\n",
        "    return kvp"
      ]
    },
    {
      "cell_type": "markdown",
      "source": [
        "The function first splits the text into lines using the split method. It then iterates over the lines and matches each line against the regular expressions in key_regexes. When a match is found, it sets key to the corresponding key and initializes an empty string for the value in the kvp dictionary. It then continues to append the subsequent lines to the value until it finds the next key.\n",
        "\n",
        "The function also includes a special case for the \"Amount Due (USD)\" key, since the value for this key is not on a separate line. It extracts the value using string manipulation and adds it to the kvp dictionary.\n",
        "\n",
        "Finally, the function removes any commas and replaces the key and colon from the value using the replace method.\n",
        "\n",
        "format_table\n",
        "The format_table function takes in a dictionary of key-value pairs and formats it as an HTML table using the Pandas library."
      ],
      "metadata": {
        "id": "E11Ay58dNW-U"
      }
    },
    {
      "cell_type": "code",
      "source": [
        "def format_table(output):\n",
        "    kvp = {key.strip(): value.replace(\"\\n\", \", \") for key, value in output.items()}\n",
        "    print(kvp)\n",
        "    df = pd.DataFrame(list(kvp.items()), columns=[\"Key\", \"Value\"])\n",
        "    return df.to_html(index=False, justify='left')"
      ],
      "metadata": {
        "id": "yBisW9WLMx_X"
      },
      "execution_count": 20,
      "outputs": []
    },
    {
      "cell_type": "markdown",
      "source": [
        "The function first creates a new dictionary (kvp) with stripped keys and values that have newlines replaced with commas. It then creates a Pandas dataframe with the dictionary and formats it as an HTML table using the to_html method. It returns the formatted table as a string.\n",
        "\n",
        "**extract_kvp_from_image**:\n",
        "The extract_kvp_from_image function is the main function that takes in an image and a string of regular expressions, extracts the text from the image, and extracts the key-value pairs using the extract_kvp function. It then formats the output as an HTML table using the format_table function."
      ],
      "metadata": {
        "id": "WHfS-zbmN3Qm"
      }
    },
    {
      "cell_type": "code",
      "source": [
        "\n",
        "def extract_kvp_from_image(image, key_regexes_str):\n",
        "    key_regexes = [re.compile(regex) for regex in key_regexes_str.split(\", \")]\n",
        "    text = extract_text_from_image(image)\n",
        "    print('Extracted Text Data',text)\n",
        "    kvp = extract_kvp(text, key_regexes)\n",
        "    output = format_table(kvp)\n",
        "    return output"
      ],
      "metadata": {
        "id": "SqfR3BbrM6LT"
      },
      "execution_count": 21,
      "outputs": []
    },
    {
      "cell_type": "markdown",
      "source": [
        "Next, we define a function to extract text from the invoice image using the Tesseract OCR engine."
      ],
      "metadata": {
        "id": "D1pwUD_6OS01"
      }
    },
    {
      "cell_type": "code",
      "source": [
        "def extract_text_from_image(image):\n",
        "    # Extract the text from the image using Tesseract\n",
        "    text = pytesseract.image_to_string(image)\n",
        "    \n",
        "    return text\n",
        "\n",
        "\n",
        "\n"
      ],
      "metadata": {
        "id": "hhX1d5jrMyHt"
      },
      "execution_count": 22,
      "outputs": []
    },
    {
      "cell_type": "markdown",
      "source": [
        "And finally, we have the extract_kvp_from_image function. This function takes in an image and a string of regular expressions for the keys that we want to extract from the image. It then uses the extract_text_from_image function to extract the text from the image, and the extract_kvp function to extract the key-value pairs from the text using the provided regular expressions. Finally, the function formats the output as an HTML table using the format_table function and returns it.\n",
        "\n",
        "Let's put all the functions together and run the application!"
      ],
      "metadata": {
        "id": "0ooohR39NzhR"
      }
    },
    {
      "cell_type": "code",
      "source": [
        "import pytesseract\n",
        "from PIL import Image\n",
        "import pandas as pd\n",
        "import re\n",
        "import gradio as gr\n",
        "\n",
        "pytesseract.pytesseract.tesseract_cmd = r'/usr/bin/tesseract'\n",
        "\n",
        "def extract_text_from_image(image):\n",
        "    # Extract the text from the image using Tesseract\n",
        "    text = pytesseract.image_to_string(image)\n",
        "    \n",
        "    return text\n",
        "\n",
        "def extract_kvp(text,key_regexes):\n",
        "    # Define the regular expressions to match the keys\n",
        "    key_regexes = key_regexes\n",
        "\n",
        "    # Split the text into lines\n",
        "    lines = text.split(\"\\n\")\n",
        "\n",
        "    # Iterate over the lines and extract the key-value pairs\n",
        "    kvp = {}\n",
        "    key = None\n",
        "    for line in lines:\n",
        "        for regex in key_regexes:\n",
        "            if regex.match(line):\n",
        "                key = regex.pattern.replace(\"^\", \"\").strip()\n",
        "                kvp[key] = \"\"\n",
        "                break\n",
        "        if key:\n",
        "            kvp[key] += line + \"\\n\"\n",
        "    if key == 'Amount Due \\\\(USD\\\\)':\n",
        "      key = 'Amount Due (USD):'\n",
        "      kvp[key] = line.split(\":\")[-1].strip().split(\"$\")[-1].strip()\n",
        "      \n",
        "    else:\n",
        "        kvp[key] = line.strip().replace(\",\",\"\").replace(key + \":\", \"\")\n",
        "    return kvp\n",
        "\n",
        "def format_table(output):\n",
        "    kvp = {key.strip(): value.replace(\"\\n\", \", \") for key, value in output.items()}\n",
        "    df = pd.DataFrame(list(kvp.items()), columns=[\"Key\", \"Value\"])\n",
        "    return df.to_html(index=False, justify='left')\n",
        "\n",
        "def extract_kvp_from_image(image, key_regexes_str):\n",
        "    key_regexes = [re.compile(regex) for regex in key_regexes_str.split(\", \")]\n",
        "    text = extract_text_from_image(image)\n",
        "    kvp = extract_kvp(text, key_regexes)\n",
        "    output = format_table(kvp)\n",
        "    return output\n",
        "\n",
        "inputs = [gr.inputs.Image(type=\"filepath\", label=\"Input\"), gr.inputs.Textbox(label=\"Key Regexes\", default=\"^BILLTO, ^Invoice #, ^Task, ^Item, ^Rate, ^Price, ^Amount Due \\\\(USD\\\\)\")]\n",
        "\n",
        "outputs = gr.outputs.HTML(label=\"Output\")\n",
        "\n",
        "gr.Interface(\n",
        "extract_kvp_from_image, inputs, title=\"Extract Key-Value Pairs from Invoice Image\",layout =\"browse\", outputs=outputs\n",
        ").launch()\n"
      ],
      "metadata": {
        "id": "3bRi8nIoMx2x"
      },
      "execution_count": 25,
      "outputs": []
    },
    {
      "cell_type": "markdown",
      "source": [
        "**Conclusion**:\n",
        "\n",
        "In this blog post, we have explored how to extract key-value pairs from an invoice image using Python and Gradio. We have used the Tesseract OCR engine to extract text from the image, and regular expressions to extract the key-value pairs from the text. We have also used Gradio to create a user-friendly interface for our application."
      ],
      "metadata": {
        "id": "YVHeawtBOzSB"
      }
    }
  ],
  "metadata": {
    "colab": {
      "provenance": []
    },
    "kernelspec": {
      "display_name": "Python 3",
      "name": "python3"
    },
    "language_info": {
      "name": "python"
    }
  },
  "nbformat": 4,
  "nbformat_minor": 0
}